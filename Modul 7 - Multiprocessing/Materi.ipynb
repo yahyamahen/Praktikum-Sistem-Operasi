{
 "cells": [
  {
   "cell_type": "markdown",
   "metadata": {},
   "source": [
    "### Muat <i>built-in libraries</i> yang akan digunakan : "
   ]
  },
  {
   "cell_type": "code",
   "execution_count": 1,
   "metadata": {},
   "outputs": [],
   "source": [
    "from os import getpid\n",
    "from time import time, sleep\n",
    "from multiprocessing import cpu_count, Pool, Process"
   ]
  },
  {
   "cell_type": "markdown",
   "metadata": {},
   "source": [
    "<b>getpid</b> digunakan untuk mengambil ID proses<br>\n",
    "\n",
    "<b>time</b> digunakan untuk mengambil waktu(detik)<br>\n",
    "<b>sleep</b> digunakan untuk memberi jeda waktu(detik)<br>\n",
    "\n",
    "<b>cpu_count</b> digunakan untuk melihat jumlah CPU<br>\n",
    "<b>Pool</b> adalah sebuah <i>class</i> pada <i>library</i> <b>multiprocessing</b> yang digunakan untuk melakukan pemrosesan paralel dengan menggunakan proses sebanyak jumlah CPU pada komputer<br>\n",
    "<b>Process</b> adalah sebuah <i>class</i> pada <i>library</i> <b>multiprocessing</b> yang digunakan untuk melakukan pemrosesan paralel dengan menggunakan proses secara beruntun pada komputer<br>\n",
    "\n",
    "Dokumentasi :<br>\n",
    "https://docs.python.org/3/library/os.html<br>\n",
    "https://docs.python.org/3/library/time.html<br>\n",
    "https://docs.python.org/3.8/library/multiprocessing.html"
   ]
  },
  {
   "cell_type": "markdown",
   "metadata": {},
   "source": [
    "### Lihat Spesifikasi Sistem Operasi :"
   ]
  },
  {
   "cell_type": "code",
   "execution_count": 2,
   "metadata": {
    "scrolled": true
   },
   "outputs": [
    {
     "name": "stdout",
     "output_type": "stream",
     "text": [
      "Kernel dan arsitektur :\n",
      "5.0.0-36-generic x86_64 x86_64 GNU/Linux\n",
      "\n",
      "Sistem Operasi yang digunakan :\n",
      "No LSB modules are available.\n",
      "Distributor ID:\tUbuntu\n",
      "Description:\tUbuntu 18.04.3 LTS\n",
      "Release:\t18.04\n",
      "Codename:\tbionic\n",
      "\n",
      "Jumlah CPU : 4\n"
     ]
    }
   ],
   "source": [
    "!echo \"Kernel dan arsitektur :\"\n",
    "!uname -romi\n",
    "\n",
    "!echo \"\\nSistem Operasi yang digunakan :\"\n",
    "!lsb_release -a\n",
    "\n",
    "print(\"\\nJumlah CPU :\",cpu_count())"
   ]
  },
  {
   "cell_type": "markdown",
   "metadata": {},
   "source": [
    "Kalian juga bisa mengeksekusi perintah/<i>command</i> yang ada pada terminal di <b>Jupyter Notebook</b> (:"
   ]
  },
  {
   "cell_type": "markdown",
   "metadata": {},
   "source": [
    "### Inisialisasi fungsi yang akan digunakan :"
   ]
  },
  {
   "cell_type": "code",
   "execution_count": 3,
   "metadata": {},
   "outputs": [],
   "source": [
    "def cetak(i):\n",
    "    print(\"Cetak angka\", i+1,\"- punya ID proses\", getpid())\n",
    "    sleep(1)"
   ]
  },
  {
   "cell_type": "markdown",
   "metadata": {},
   "source": [
    "Fungsi di atas digunakan untuk mencetak angka dari variabel <b>i</b> beserta ID proses sejumlah parameter yang diberikan.<br>\n",
    "Kita panggil fungsi <b>sleep</b> untuk memberi jeda waktu(detik) sebanyak parameter yang diberikan."
   ]
  },
  {
   "cell_type": "markdown",
   "metadata": {},
   "source": [
    "### 1 - Pemrosesan sekuensial"
   ]
  },
  {
   "cell_type": "code",
   "execution_count": 4,
   "metadata": {},
   "outputs": [
    {
     "name": "stdout",
     "output_type": "stream",
     "text": [
      "Cetak angka 1 - punya ID proses 7199\n",
      "Cetak angka 2 - punya ID proses 7199\n",
      "Cetak angka 3 - punya ID proses 7199\n",
      "Cetak angka 4 - punya ID proses 7199\n",
      "Cetak angka 5 - punya ID proses 7199\n",
      "Cetak angka 6 - punya ID proses 7199\n",
      "Cetak angka 7 - punya ID proses 7199\n",
      "Cetak angka 8 - punya ID proses 7199\n",
      "Cetak angka 9 - punya ID proses 7199\n",
      "Cetak angka 10 - punya ID proses 7199\n"
     ]
    }
   ],
   "source": [
    "# UNTUK MENDAPATKAN WAKTU SEBELUM EKSEKUSI\n",
    "sekuensial_awal = time()\n",
    "\n",
    "# PROSES BERLANGSUNG\n",
    "for i in range(10):\n",
    "    cetak(i)\n",
    "\n",
    "# UNTUK MENDAPATKAN WAKTU SETELAH EKSEKUSI\n",
    "sekuensial_akhir = time()"
   ]
  },
  {
   "cell_type": "markdown",
   "metadata": {},
   "source": [
    "Perulangan biasa dengan Python ~"
   ]
  },
  {
   "cell_type": "markdown",
   "metadata": {},
   "source": [
    "### 2 - <i>Multiprocessing</i> dengan kelas Process :"
   ]
  },
  {
   "cell_type": "code",
   "execution_count": 5,
   "metadata": {
    "scrolled": true
   },
   "outputs": [
    {
     "name": "stdout",
     "output_type": "stream",
     "text": [
      "Cetak angka 1 - punya ID proses 7220\n",
      "Cetak angka 2 - punya ID proses 7221\n",
      "Cetak angka 3 - punya ID proses 7224\n",
      "Cetak angka 4 - punya ID proses 7229\n",
      "Cetak angka 5 - punya ID proses 7232\n",
      "Cetak angka 6 - punya ID proses 7235\n",
      "Cetak angka 7 - punya ID proses 7238\n",
      "Cetak angka 8 - punya ID proses 7239\n",
      "Cetak angka 9 - punya ID proses 7244\n",
      "Cetak angka 10 - punya ID proses 7246\n"
     ]
    }
   ],
   "source": [
    "# UNTUK MENAMPUNG PROSES-PROSES\n",
    "kumpulan_proses = []\n",
    "\n",
    "# UNTUK MENDAPATKAN WAKTU SEBELUM EKSEKUSI\n",
    "process_awal = time()\n",
    "\n",
    "# PROSES BERLANGSUNG\n",
    "for i in range(10):\n",
    "    p = Process(target=cetak, args=(i,))\n",
    "    kumpulan_proses.append(p)\n",
    "    p.start()\n",
    "\n",
    "# UNTUK MENGGABUNGKAN PROSES-PROSES AGAR TIDAK LONCAT KE PROSES SEBELUM'NYA\n",
    "for i in kumpulan_proses:\n",
    "    p.join()\n",
    "    \n",
    "# UNTUK MENDAPATKAN WAKTU SETELAH EKSEKUSI\n",
    "process_akhir = time()"
   ]
  },
  {
   "cell_type": "markdown",
   "metadata": {},
   "source": [
    "Dapat diperhatikan dengan seksama bahwa ID proses tiap memanggil fungsi <b>cetak</b> adalah berbeda-beda.<br>\n",
    "Ini menandakan bahwa tiap pemanggilan fungsi <b>cetak</b> ditangani oleh satu proses saja.<br>\n",
    "Kemudian untuk pemanggilan selanjut'nya ditangani oleh proses yang lain.<br>\n",
    "\n",
    "Kumpulan proses harus ditampung dan digabung menjadi satu(<b>p.join()</b>)agar tidak merambah ke proses selanjutnya.<br>\n",
    "Silahkan eksekusi file <a href=\"https://github.com/Rakhid16/Praktikum-Sistem-Operasi/blob/master/Modul%207%20-%20Multiprocessing/tanpa%20join().py\">berikut</a> pada terminal anda, maka anda akan paham apa yang saya maksudkan.<br>"
   ]
  },
  {
   "cell_type": "markdown",
   "metadata": {},
   "source": [
    "### 3 - <i>Multiprocessing</i> dengan kelas Pool :"
   ]
  },
  {
   "cell_type": "code",
   "execution_count": 6,
   "metadata": {
    "scrolled": false
   },
   "outputs": [
    {
     "name": "stdout",
     "output_type": "stream",
     "text": [
      "Cetak angka 1 - punya ID proses 7250\n",
      "Cetak angka 2 - punya ID proses 7251\n",
      "Cetak angka 4 - punya ID proses 7253\n",
      "Cetak angka 3 - punya ID proses 7252\n",
      "Cetak angka 5 - punya ID proses 7251\n",
      "Cetak angka 6 - punya ID proses 7250\n",
      "Cetak angka 7 - punya ID proses 7252\n",
      "Cetak angka 8 - punya ID proses 7253\n",
      "Cetak angka 10 - punya ID proses 7250\n",
      "Cetak angka 9 - punya ID proses 7251\n"
     ]
    }
   ],
   "source": [
    "# UNTUK MENDAPATKAN WAKTU SEBELUM EKSEKUSI\n",
    "pool_awal = time()\n",
    "\n",
    "# PROSES BERLANGSUNG\n",
    "pool = Pool()\n",
    "pool.map(cetak, range(0,10))\n",
    "pool.close()\n",
    "\n",
    "# UNTUK MENDAPATKAN WAKTU SEBELUM EKSEKUSI\n",
    "pool_akhir = time()"
   ]
  },
  {
   "cell_type": "markdown",
   "metadata": {},
   "source": [
    "Jumlah ID proses terbatas pada empat saja karena jumlah CPU pada komputer saya hanyalah 4.<br>\n",
    "Jangan risaukan urutan angka yang dicetak jika tidak berurutan, kan emang ini pemrosesan paralel.<br>\n",
    "Fungsi <b>map()</b> itu memetakan pemanggilan fungsi <b>cetak</b> ke dalam 4 CPU sebanyak 10 kali.<br>"
   ]
  },
  {
   "cell_type": "markdown",
   "metadata": {},
   "source": [
    "### Bandingkan Waktu Eksekusi :"
   ]
  },
  {
   "cell_type": "code",
   "execution_count": 7,
   "metadata": {
    "scrolled": true
   },
   "outputs": [
    {
     "name": "stdout",
     "output_type": "stream",
     "text": [
      "Sekuensial : 10.023469924926758 detik\n",
      "Kelas Process : 1.0740904808044434 detik\n",
      "Kelas Pool : 3.036562919616699 detik\n"
     ]
    }
   ],
   "source": [
    "print(\"Sekuensial :\", sekuensial_akhir - sekuensial_awal, \"detik\")\n",
    "print(\"Kelas Process :\", process_akhir - process_awal, \"detik\")\n",
    "print(\"Kelas Pool :\", pool_akhir - pool_awal, \"detik\")"
   ]
  },
  {
   "cell_type": "markdown",
   "metadata": {},
   "source": [
    "Sudah sewajarnya proses sekuensial lebih lambat dibanding <i>multiprocessing</i> namun bukan berarti kita harus melakukan <i>multiprocessing</i> terus menerus, gunakan metode sesuai kebutuhan. Nah apabila barisan kode di atas dikumpulkan jadi satu maka jadinya akan seperti <a href=\"https://github.com/Rakhid16/Praktikum-Sistem-Operasi/blob/master/Modul%207%20-%20Multiprocessing/perbandingan.py\">ini</a>."
   ]
  },
  {
   "cell_type": "code",
   "execution_count": null,
   "metadata": {},
   "outputs": [],
   "source": []
  }
 ],
 "metadata": {
  "kernelspec": {
   "display_name": "Python 3",
   "language": "python",
   "name": "python3"
  },
  "language_info": {
   "codemirror_mode": {
    "name": "ipython",
    "version": 3
   },
   "file_extension": ".py",
   "mimetype": "text/x-python",
   "name": "python",
   "nbconvert_exporter": "python",
   "pygments_lexer": "ipython3",
   "version": "3.6.8"
  }
 },
 "nbformat": 4,
 "nbformat_minor": 2
}
