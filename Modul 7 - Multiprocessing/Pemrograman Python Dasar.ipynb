{
 "cells": [
  {
   "cell_type": "markdown",
   "metadata": {},
   "source": [
    "<img src=\"https://i.imgur.com/2pGaXBV.jpg\"><br>\n",
    "Bahasa pemrograman interpretatif multiguna dengan filosofi perancangan yang berfokus pada tingkat keterbacaan kode(Wikipedia). Python sangat cocok digunakan untuk kecerdasan buatan, sains data, dan pengembangan aplikasi <i>website</i>(<i>back-end</i>)."
   ]
  },
  {
   "cell_type": "markdown",
   "metadata": {},
   "source": [
    "## 1. Tipe data, <i>input-output</i>, dan penugasan pada variabel\n",
    "<img src=\"https://i.imgur.com/3pS3QbE.jpg\">"
   ]
  },
  {
   "cell_type": "markdown",
   "metadata": {},
   "source": [
    "#### 1.1 <i>Output"
   ]
  },
  {
   "cell_type": "code",
   "execution_count": 1,
   "metadata": {
    "scrolled": true
   },
   "outputs": [
    {
     "name": "stdout",
     "output_type": "stream",
     "text": [
      "Halo dunia!\n"
     ]
    }
   ],
   "source": [
    "print(\"Halo dunia!\")"
   ]
  },
  {
   "cell_type": "markdown",
   "metadata": {},
   "source": [
    "#### 1.2 <i>Tipe data"
   ]
  },
  {
   "cell_type": "code",
   "execution_count": 2,
   "metadata": {
    "scrolled": false
   },
   "outputs": [
    {
     "name": "stdout",
     "output_type": "stream",
     "text": [
      "<class 'int'>\n",
      "<class 'float'>\n",
      "<class 'str'>\n"
     ]
    }
   ],
   "source": [
    "print(type(1))\n",
    "print(type(1.0))\n",
    "print(type(\"1\"))"
   ]
  },
  {
   "cell_type": "markdown",
   "metadata": {},
   "source": [
    "#### 1.3 <i>Input"
   ]
  },
  {
   "cell_type": "code",
   "execution_count": 3,
   "metadata": {
    "scrolled": false
   },
   "outputs": [
    {
     "name": "stdout",
     "output_type": "stream",
     "text": [
      "Masukkan sesuatu : Belajar AI Bareng ILC\n",
      "Tadi aku memasukkan Belajar AI Bareng ILC yang memiliki tipe data <class 'str'>\n"
     ]
    }
   ],
   "source": [
    "a = input(\"Masukkan sesuatu : \")\n",
    "print(\"Tadi aku memasukkan\", a, \"yang memiliki tipe data\", type(a))"
   ]
  },
  {
   "cell_type": "markdown",
   "metadata": {},
   "source": [
    "#### 1.4 Menghapus vairabel"
   ]
  },
  {
   "cell_type": "code",
   "execution_count": 4,
   "metadata": {},
   "outputs": [
    {
     "ename": "NameError",
     "evalue": "name 'a' is not defined",
     "output_type": "error",
     "traceback": [
      "\u001b[0;31m---------------------------------------------------------------------------\u001b[0m",
      "\u001b[0;31mNameError\u001b[0m                                 Traceback (most recent call last)",
      "\u001b[0;32m<ipython-input-4-c342333e421e>\u001b[0m in \u001b[0;36m<module>\u001b[0;34m\u001b[0m\n\u001b[1;32m      1\u001b[0m \u001b[0;32mdel\u001b[0m \u001b[0ma\u001b[0m\u001b[0;34m\u001b[0m\u001b[0;34m\u001b[0m\u001b[0m\n\u001b[0;32m----> 2\u001b[0;31m \u001b[0mprint\u001b[0m\u001b[0;34m(\u001b[0m\u001b[0ma\u001b[0m\u001b[0;34m)\u001b[0m\u001b[0;34m\u001b[0m\u001b[0;34m\u001b[0m\u001b[0m\n\u001b[0m",
      "\u001b[0;31mNameError\u001b[0m: name 'a' is not defined"
     ]
    }
   ],
   "source": [
    "del a\n",
    "print(a)"
   ]
  },
  {
   "cell_type": "markdown",
   "metadata": {},
   "source": [
    "#### 1.5 Lainnya"
   ]
  },
  {
   "cell_type": "code",
   "execution_count": 5,
   "metadata": {
    "scrolled": false
   },
   "outputs": [
    {
     "name": "stdout",
     "output_type": "stream",
     "text": [
      "2\n",
      "-1\n",
      "10\n",
      "4.5\n",
      "46656\n"
     ]
    }
   ],
   "source": [
    "# KALKULATOR SEDERHANA\n",
    "\n",
    "print(1+1)\n",
    "print(3-4)\n",
    "print(2*5)\n",
    "print(9/2)\n",
    "print(6**6)"
   ]
  },
  {
   "cell_type": "code",
   "execution_count": 6,
   "metadata": {},
   "outputs": [
    {
     "data": {
      "text/plain": [
       "'ILC UPNVJT'"
      ]
     },
     "execution_count": 6,
     "metadata": {},
     "output_type": "execute_result"
    }
   ],
   "source": [
    "# MENGGABUNGKAN KALIMAT(str)\n",
    "\n",
    "\"ILC\" + \" \" + \"UPNVJT\""
   ]
  },
  {
   "cell_type": "code",
   "execution_count": 7,
   "metadata": {
    "scrolled": true
   },
   "outputs": [
    {
     "data": {
      "text/plain": [
       "' ILC!  ILC!  ILC! '"
      ]
     },
     "execution_count": 7,
     "metadata": {},
     "output_type": "execute_result"
    }
   ],
   "source": [
    "# OPERASI ARITMATIKA DENGAN STR\n",
    "\n",
    "\" ILC! \"*3"
   ]
  },
  {
   "cell_type": "code",
   "execution_count": 8,
   "metadata": {
    "scrolled": true
   },
   "outputs": [
    {
     "name": "stdout",
     "output_type": "stream",
     "text": [
      "True\n",
      "False\n",
      "True\n"
     ]
    }
   ],
   "source": [
    "# BOOLEAN\n",
    "\n",
    "print(1 <= 2)\n",
    "print(2 == 3)\n",
    "print(1 == 1.0)"
   ]
  },
  {
   "cell_type": "markdown",
   "metadata": {},
   "source": [
    "### 1.6 Contoh Penerapan"
   ]
  },
  {
   "cell_type": "code",
   "execution_count": 9,
   "metadata": {},
   "outputs": [
    {
     "name": "stdout",
     "output_type": "stream",
     "text": [
      "Masukkan nilai alas segitiga : 8\n",
      "Masukkan nilai tinggi segitiga : 9\n",
      "\n",
      "Luasnya adalah 36.0\n"
     ]
    }
   ],
   "source": [
    "alas = float(input(\"Masukkan nilai alas segitiga : \"))\n",
    "tinggi = float(input(\"Masukkan nilai tinggi segitiga : \"))\n",
    "\n",
    "luas = alas*tinggi/2\n",
    "\n",
    "print(\"\\nLuasnya adalah\", luas)"
   ]
  },
  {
   "cell_type": "markdown",
   "metadata": {},
   "source": [
    "## 2. Percabangan\n",
    "<img src=\"https://i.imgur.com/2suyhRN.jpg\">"
   ]
  },
  {
   "cell_type": "markdown",
   "metadata": {},
   "source": [
    "#### 2.1 Standar"
   ]
  },
  {
   "cell_type": "code",
   "execution_count": 10,
   "metadata": {},
   "outputs": [
    {
     "name": "stdout",
     "output_type": "stream",
     "text": [
      "Luas daerah kecil\n"
     ]
    }
   ],
   "source": [
    "if (luas <= 50):\n",
    "    print(\"Luas daerah kecil\")\n",
    "else:\n",
    "    print(\"Luas daerah ndak kecil\")"
   ]
  },
  {
   "cell_type": "code",
   "execution_count": 11,
   "metadata": {},
   "outputs": [
    {
     "name": "stdout",
     "output_type": "stream",
     "text": [
      "Luas daerah kecil\n"
     ]
    }
   ],
   "source": [
    "if (luas <= 50):\n",
    "    print(\"Luas daerah kecil\")\n",
    "elif (luas >= 50 and luas <= 100):\n",
    "    print(\"Luas daerah lumayan\")\n",
    "else:\n",
    "    print(\"Luas daerah ndak kecil\")"
   ]
  },
  {
   "cell_type": "markdown",
   "metadata": {},
   "source": [
    "#### 2.2 Satu baris"
   ]
  },
  {
   "cell_type": "code",
   "execution_count": 12,
   "metadata": {},
   "outputs": [
    {
     "name": "stdout",
     "output_type": "stream",
     "text": [
      "kecil\n"
     ]
    }
   ],
   "source": [
    "print(\"kecil\") if luas <=50 else print(\"besar\")"
   ]
  },
  {
   "cell_type": "markdown",
   "metadata": {},
   "source": [
    "## 3. Perulangan\n",
    "<img src=\"https://i.imgur.com/GQzydRM.jpg\">"
   ]
  },
  {
   "cell_type": "markdown",
   "metadata": {},
   "source": [
    "#### 3.1 for"
   ]
  },
  {
   "cell_type": "code",
   "execution_count": 13,
   "metadata": {},
   "outputs": [
    {
     "name": "stdout",
     "output_type": "stream",
     "text": [
      "0\n",
      "1\n",
      "2\n",
      "3\n",
      "4\n",
      "5\n",
      "6\n",
      "7\n",
      "8\n",
      "9\n"
     ]
    }
   ],
   "source": [
    "for i in range(10):\n",
    "    print(i)"
   ]
  },
  {
   "cell_type": "markdown",
   "metadata": {},
   "source": [
    "#### 3.2 while"
   ]
  },
  {
   "cell_type": "code",
   "execution_count": 14,
   "metadata": {},
   "outputs": [
    {
     "name": "stdout",
     "output_type": "stream",
     "text": [
      "0\n",
      "1\n",
      "2\n",
      "3\n",
      "4\n",
      "5\n",
      "6\n",
      "7\n",
      "8\n",
      "9\n"
     ]
    }
   ],
   "source": [
    "i = 0\n",
    "while(i<10):\n",
    "    print(i)\n",
    "    i += 1"
   ]
  },
  {
   "cell_type": "markdown",
   "metadata": {},
   "source": [
    "## 4. Operasi <i>list, tuple, dictionaries</i>\n",
    "<img src=\"https://i.imgur.com/HpTzGfX.jpg\">"
   ]
  },
  {
   "cell_type": "markdown",
   "metadata": {},
   "source": [
    "#### 4.1 <i>List</i>\n",
    "Sama dengan <i>array</i> pada bahasa pemrograman yang lain, hanya saja <i>list</i> lebih dinamis."
   ]
  },
  {
   "cell_type": "code",
   "execution_count": 15,
   "metadata": {},
   "outputs": [
    {
     "name": "stdout",
     "output_type": "stream",
     "text": [
      "[2, 4, 6, 8, 10]\n"
     ]
    }
   ],
   "source": [
    "larik = [2,4,6,8,10]\n",
    "print(larik)"
   ]
  },
  {
   "cell_type": "code",
   "execution_count": 16,
   "metadata": {},
   "outputs": [
    {
     "data": {
      "text/plain": [
       "5"
      ]
     },
     "execution_count": 16,
     "metadata": {},
     "output_type": "execute_result"
    }
   ],
   "source": [
    "len(larik)"
   ]
  },
  {
   "cell_type": "code",
   "execution_count": 17,
   "metadata": {},
   "outputs": [
    {
     "name": "stdout",
     "output_type": "stream",
     "text": [
      "[2, 4, 6, 8, 10, 12]\n"
     ]
    }
   ],
   "source": [
    "larik.append(12)\n",
    "print(larik)"
   ]
  },
  {
   "cell_type": "code",
   "execution_count": 18,
   "metadata": {},
   "outputs": [
    {
     "name": "stdout",
     "output_type": "stream",
     "text": [
      "[12, 10, 8, 6, 4, 2]\n"
     ]
    }
   ],
   "source": [
    "larik.reverse()\n",
    "print(larik)"
   ]
  },
  {
   "cell_type": "code",
   "execution_count": 19,
   "metadata": {},
   "outputs": [
    {
     "name": "stdout",
     "output_type": "stream",
     "text": [
      "[2, 4, 6, 8, 10, 12]\n"
     ]
    }
   ],
   "source": [
    "larik.sort()\n",
    "print(larik)"
   ]
  },
  {
   "cell_type": "markdown",
   "metadata": {},
   "source": [
    "#### Akses elemen berdasarkan indeks"
   ]
  },
  {
   "cell_type": "code",
   "execution_count": 20,
   "metadata": {
    "scrolled": false
   },
   "outputs": [
    {
     "name": "stdout",
     "output_type": "stream",
     "text": [
      "2\n",
      "12\n",
      "6\n",
      "[4, 6, 8]\n"
     ]
    }
   ],
   "source": [
    "print(larik[0])\n",
    "print(larik[-1])\n",
    "print(larik[2])\n",
    "print(larik[1:4])"
   ]
  },
  {
   "cell_type": "markdown",
   "metadata": {},
   "source": [
    "#### Perulangan pada <i>list"
   ]
  },
  {
   "cell_type": "code",
   "execution_count": 21,
   "metadata": {
    "scrolled": true
   },
   "outputs": [
    {
     "name": "stdout",
     "output_type": "stream",
     "text": [
      "2\n",
      "4\n",
      "6\n",
      "8\n",
      "10\n",
      "12\n"
     ]
    }
   ],
   "source": [
    "for elemen in larik:\n",
    "    print(elemen)"
   ]
  },
  {
   "cell_type": "code",
   "execution_count": 22,
   "metadata": {},
   "outputs": [
    {
     "name": "stdout",
     "output_type": "stream",
     "text": [
      "0\n",
      "1\n",
      "2\n",
      "3\n",
      "4\n",
      "5\n"
     ]
    }
   ],
   "source": [
    "for i in range(len(larik)):\n",
    "    print(i)"
   ]
  },
  {
   "cell_type": "code",
   "execution_count": 23,
   "metadata": {
    "scrolled": true
   },
   "outputs": [
    {
     "name": "stdout",
     "output_type": "stream",
     "text": [
      "2\n",
      "12\n"
     ]
    }
   ],
   "source": [
    "print(larik[0])\n",
    "print(larik[-1])"
   ]
  },
  {
   "cell_type": "code",
   "execution_count": 24,
   "metadata": {},
   "outputs": [
    {
     "name": "stdout",
     "output_type": "stream",
     "text": [
      "[4, 6, 8, 10, 12]\n"
     ]
    }
   ],
   "source": [
    "del larik[0]\n",
    "\n",
    "print(larik)"
   ]
  },
  {
   "cell_type": "code",
   "execution_count": 25,
   "metadata": {},
   "outputs": [
    {
     "name": "stdout",
     "output_type": "stream",
     "text": [
      "[4, 6, 8, 12]\n"
     ]
    }
   ],
   "source": [
    "larik.remove(10)\n",
    "\n",
    "print(larik)"
   ]
  },
  {
   "cell_type": "code",
   "execution_count": 26,
   "metadata": {},
   "outputs": [
    {
     "name": "stdout",
     "output_type": "stream",
     "text": [
      "[16, 36, 64, 144]\n"
     ]
    }
   ],
   "source": [
    "larik_kuadrat = []\n",
    "\n",
    "for i in larik:\n",
    "    larik_kuadrat.append(i**2)\n",
    "    \n",
    "print(larik_kuadrat)"
   ]
  },
  {
   "cell_type": "markdown",
   "metadata": {},
   "source": [
    "<a href=\"https://github.com/Rakhid16/NumPy-Dasar/blob/master/Operasi-operasi%20List.ipynb\">Selengkapnya</a>"
   ]
  },
  {
   "cell_type": "markdown",
   "metadata": {},
   "source": [
    "#### 4.2 <i>Tuple</i>\n",
    "Bentuk lain dari <i>list</i>.<br>\n",
    "<i>Tuple</i> jarang digunakan.<br>\n",
    "<i>List</i> lebih enak."
   ]
  },
  {
   "cell_type": "code",
   "execution_count": 27,
   "metadata": {},
   "outputs": [
    {
     "name": "stdout",
     "output_type": "stream",
     "text": [
      "(1, 3, 5, 7, 9)\n"
     ]
    }
   ],
   "source": [
    "tuple_angka_ganjil = (1,3,5,7,9)\n",
    "\n",
    "print(tuple_angka_ganjil)"
   ]
  },
  {
   "cell_type": "code",
   "execution_count": 28,
   "metadata": {
    "scrolled": true
   },
   "outputs": [
    {
     "name": "stdout",
     "output_type": "stream",
     "text": [
      "1\n",
      "3\n",
      "5\n",
      "7\n",
      "9\n"
     ]
    }
   ],
   "source": [
    "for i in tuple_angka_ganjil:\n",
    "    print(i)"
   ]
  },
  {
   "cell_type": "code",
   "execution_count": 29,
   "metadata": {},
   "outputs": [
    {
     "data": {
      "text/plain": [
       "True"
      ]
     },
     "execution_count": 29,
     "metadata": {},
     "output_type": "execute_result"
    }
   ],
   "source": [
    "9 in tuple_angka_ganjil"
   ]
  },
  {
   "cell_type": "code",
   "execution_count": 30,
   "metadata": {},
   "outputs": [
    {
     "data": {
      "text/plain": [
       "False"
      ]
     },
     "execution_count": 30,
     "metadata": {},
     "output_type": "execute_result"
    }
   ],
   "source": [
    "2 in tuple_angka_ganjil"
   ]
  },
  {
   "cell_type": "markdown",
   "metadata": {},
   "source": [
    "#### 4.3 <i>Dictionaries</i>\n",
    "Sekumpulan data yang terdiri dari sepasang kunci(<i>key</i>) dan nilai(<i>value</i>)."
   ]
  },
  {
   "cell_type": "code",
   "execution_count": 31,
   "metadata": {},
   "outputs": [],
   "source": [
    "dict_kamus = {\"satu\":1, \"dua\":2, \"tiga\":3, \"empat\":4, \"lima\":5}"
   ]
  },
  {
   "cell_type": "code",
   "execution_count": 32,
   "metadata": {},
   "outputs": [
    {
     "data": {
      "text/plain": [
       "dict_keys(['satu', 'dua', 'tiga', 'empat', 'lima'])"
      ]
     },
     "execution_count": 32,
     "metadata": {},
     "output_type": "execute_result"
    }
   ],
   "source": [
    "dict_kamus.keys()"
   ]
  },
  {
   "cell_type": "code",
   "execution_count": 33,
   "metadata": {},
   "outputs": [
    {
     "data": {
      "text/plain": [
       "dict_values([1, 2, 3, 4, 5])"
      ]
     },
     "execution_count": 33,
     "metadata": {},
     "output_type": "execute_result"
    }
   ],
   "source": [
    "dict_kamus.values()"
   ]
  },
  {
   "cell_type": "code",
   "execution_count": 34,
   "metadata": {},
   "outputs": [
    {
     "data": {
      "text/plain": [
       "1"
      ]
     },
     "execution_count": 34,
     "metadata": {},
     "output_type": "execute_result"
    }
   ],
   "source": [
    "dict_kamus[\"satu\"]"
   ]
  },
  {
   "cell_type": "code",
   "execution_count": 35,
   "metadata": {
    "scrolled": true
   },
   "outputs": [
    {
     "name": "stdout",
     "output_type": "stream",
     "text": [
      "{'satu': 1, 'dua': 2, 'tiga': 3, 'empat': 4, 'lima': 5}\n"
     ]
    }
   ],
   "source": [
    "dict_kamus[\"lima\"]=5\n",
    "\n",
    "print(dict_kamus)"
   ]
  },
  {
   "cell_type": "code",
   "execution_count": 36,
   "metadata": {},
   "outputs": [
    {
     "name": "stdout",
     "output_type": "stream",
     "text": [
      "{'dua': 2, 'tiga': 3, 'empat': 4, 'lima': 5}\n"
     ]
    }
   ],
   "source": [
    "dict_kamus.pop(\"satu\")\n",
    "\n",
    "print(dict_kamus)"
   ]
  },
  {
   "cell_type": "markdown",
   "metadata": {},
   "source": [
    "#### Contoh penerapan <i>list</i>"
   ]
  },
  {
   "cell_type": "code",
   "execution_count": 37,
   "metadata": {
    "scrolled": true
   },
   "outputs": [
    {
     "name": "stdout",
     "output_type": "stream",
     "text": [
      "Masukkan nama mahasiswa : Ikal\n",
      "Masukkan jurusan : Teknik Informatika\n",
      "Masukkan kota asal mahasiswa : Jombang\n",
      "Tambah data lagi?(y/n) :y\n",
      "Masukkan nama mahasiswa : Gugun\n",
      "Masukkan jurusan : Teknik Perpipaan\n",
      "Masukkan kota asal mahasiswa : Jepara\n",
      "Tambah data lagi?(y/n) :n\n",
      "Ikal kuliah di jurusan Teknik Informatika kota asalnya Jombang\n",
      "Gugun kuliah di jurusan Teknik Perpipaan kota asalnya Jepara\n"
     ]
    }
   ],
   "source": [
    "nama_mhs = []\n",
    "jurusan_mhs = []\n",
    "kota_asal_mhs = []\n",
    "lanjut = 'y'\n",
    "\n",
    "while(lanjut=='y'):\n",
    "    nama = input(\"Masukkan nama mahasiswa : \")\n",
    "    jurusan = input(\"Masukkan jurusan : \")\n",
    "    kota = input(\"Masukkan kota asal mahasiswa : \")\n",
    "    \n",
    "    nama_mhs.append(nama)\n",
    "    jurusan_mhs.append(jurusan)\n",
    "    kota_asal_mhs.append(kota)\n",
    "    \n",
    "    lanjut = input(\"Tambah data lagi?(y/n) :\")\n",
    "    \n",
    "for i in range(len(nama_mhs)):\n",
    "    print(nama_mhs[i], \"kuliah di jurusan\", jurusan_mhs[i], \"kota asalnya\", kota_asal_mhs[i])"
   ]
  },
  {
   "cell_type": "markdown",
   "metadata": {},
   "source": [
    "## 5. Fungsi\n",
    "<img src=\"https://i.imgur.com/nqRKjfw.jpg\">"
   ]
  },
  {
   "cell_type": "markdown",
   "metadata": {},
   "source": [
    "#### 5.1 Tanpa argumen"
   ]
  },
  {
   "cell_type": "code",
   "execution_count": 38,
   "metadata": {},
   "outputs": [],
   "source": [
    "def segitiga():\n",
    "    alas = input(\"Masukkan nilai alas : \")\n",
    "    tinggi = input(\"Masukkan nilai tinggi : \")\n",
    "    \n",
    "    luas = int(alas)*int(tinggi)/2\n",
    "    print(luas)"
   ]
  },
  {
   "cell_type": "code",
   "execution_count": 39,
   "metadata": {},
   "outputs": [
    {
     "name": "stdout",
     "output_type": "stream",
     "text": [
      "Masukkan nilai alas : 7\n",
      "Masukkan nilai tinggi : 2\n",
      "7.0\n"
     ]
    }
   ],
   "source": [
    "segitiga()"
   ]
  },
  {
   "cell_type": "markdown",
   "metadata": {},
   "source": [
    "#### 5.2 Dengan argumen"
   ]
  },
  {
   "cell_type": "code",
   "execution_count": 40,
   "metadata": {},
   "outputs": [],
   "source": [
    "def segitiga(alas, tinggi):\n",
    "    return alas*tinggi/2"
   ]
  },
  {
   "cell_type": "code",
   "execution_count": 41,
   "metadata": {},
   "outputs": [
    {
     "name": "stdout",
     "output_type": "stream",
     "text": [
      "Masukkan nilai alas : 2\n",
      "Masukkan nilai tinggi : 7\n"
     ]
    }
   ],
   "source": [
    "alas = input(\"Masukkan nilai alas : \")\n",
    "tinggi = input(\"Masukkan nilai tinggi : \")"
   ]
  },
  {
   "cell_type": "code",
   "execution_count": 42,
   "metadata": {},
   "outputs": [
    {
     "data": {
      "text/plain": [
       "7.0"
      ]
     },
     "execution_count": 42,
     "metadata": {},
     "output_type": "execute_result"
    }
   ],
   "source": [
    "segitiga(int(alas),int(tinggi))"
   ]
  },
  {
   "cell_type": "markdown",
   "metadata": {},
   "source": [
    "Makasih banyak!<br>\n",
    "Ini adalah beberapa tempat buat belajar bahasa pemrograman Python lebih lanjut :\n",
    "1. Code Academy\n",
    "2. TutorialsPoint\n",
    "3. Codementor\n",
    "4. PythonChallenge\n",
    "5. Google’s Python\n",
    "6. Python org\n",
    "7. Learn Python Hard Way\n",
    "8. LearnPython org\n",
    "9. Invent with Python\n",
    "10. Dive into Python\n",
    "11. Python for Beginners\n",
    "12. Pythonspot\n",
    "13. Learning Py Magic Methods\n",
    "14. AfterHoursProgramming\n",
    "15. NewCircle\n",
    "16. Byte of Py Online\n",
    "17. Coursera-Rice University\n",
    "18. Think Py Online Book\n",
    "19. Django Video Series\n",
    "20. Py Interactive Coding Environment\n",
    "21. Interactive Python\n",
    "22. Code Nerd Python\n",
    "23. Python Fundamentals\n",
    "24. Learning to Program Version 3\n",
    "25. Intro to CS- Udacity\n",
    "26. Python Crash Course\n",
    "27. Python Tutor\n",
    "28. Real Python (sumber gambar)\n",
    "29. Full Stack Python\n",
    "30. PythonLearn\n",
    "31. NewBoston Basic\n",
    "32. CS for All\n",
    "33. Twilio Blog: Py Projects\n",
    "34. Intro to Programming with Py\n",
    "35. Think Python\n",
    "36. Matt Makai\n",
    "37. Programming Foundations Python\n",
    "38. Py for You and Me\n",
    "39. Practical Business Py\n",
    "40. Talk Python to Me\n",
    "41. Learn Python 3 in Y Minutes\n",
    "42. Elements of Py Style\n",
    "43. Hitchhiker’s\n",
    "44. Good to Great Py Reads\n",
    "45. Awesome-Python\n",
    "46. Python Weekly\n",
    "47. CheckiO\n",
    "48. Building a PyPet\n",
    "49. Python Guru\n",
    "50. Python Tips\n",
    "\n",
    "<img src=\"https://i.imgur.com/HeKpvmr.jpg\">"
   ]
  },
  {
   "cell_type": "code",
   "execution_count": null,
   "metadata": {},
   "outputs": [],
   "source": []
  }
 ],
 "metadata": {
  "kernelspec": {
   "display_name": "Python 3",
   "language": "python",
   "name": "python3"
  },
  "language_info": {
   "codemirror_mode": {
    "name": "ipython",
    "version": 3
   },
   "file_extension": ".py",
   "mimetype": "text/x-python",
   "name": "python",
   "nbconvert_exporter": "python",
   "pygments_lexer": "ipython3",
   "version": "3.6.8"
  }
 },
 "nbformat": 4,
 "nbformat_minor": 2
}
